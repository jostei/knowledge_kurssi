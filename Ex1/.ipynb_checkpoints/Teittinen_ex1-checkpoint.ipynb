{
 "cells": [
  {
   "cell_type": "markdown",
   "metadata": {},
   "source": [
    "-- Task 2 begins --"
   ]
  },
  {
   "cell_type": "code",
   "execution_count": 33,
   "metadata": {
    "collapsed": true
   },
   "outputs": [],
   "source": [
    "#import numpy, matplotlib and interpolate from scipy\n",
    "import numpy as np\n",
    "import matplotlib.pyplot as plt\n",
    "from scipy.interpolate import interp1d"
   ]
  },
  {
   "cell_type": "code",
   "execution_count": 34,
   "metadata": {
    "collapsed": true
   },
   "outputs": [],
   "source": [
    "# intialize empty array\n",
    "task_2_txt = np.loadtxt(\"task_II_data.txt\",dtype=float,delimiter=\",\")"
   ]
  },
  {
   "cell_type": "code",
   "execution_count": 35,
   "metadata": {
    "collapsed": true,
    "scrolled": true
   },
   "outputs": [],
   "source": [
    "# go through each line and element and delete that line if any of its elements is nan\n",
    "x = len(task_2_txt)\n",
    "i = 0\n",
    "\n",
    "while( i < x ):\n",
    "    for j in range( 0 , len(task_2_txt[i]) ):\n",
    "        if(np.isnan(task_2_txt[i][j])):\n",
    "            task_2_txt = np.delete( task_2_txt , (i) , 0) # if np.isnan(test[i][j])==True, delete row\n",
    "            x = len(task_2_txt) # update upper bound of while loop when one line is deleted\n",
    "            i = i - 1 # to check the new ith row again after deleting\n",
    "            break # break the inner for-loop when nan is found\n",
    "    i = i + 1"
   ]
  },
  {
   "cell_type": "code",
   "execution_count": 36,
   "metadata": {
    "scrolled": true
   },
   "outputs": [
    {
     "name": "stdout",
     "output_type": "stream",
     "text": [
      "Column 0: \n",
      "   Mean: 4.999967107011116e-12\n",
      "   Standard deviation: 0.9999999999931781\n",
      "\n",
      "Column 1: \n",
      "   Mean: 1.0000084094130557e-11\n",
      "   Standard deviation: 0.9999999999988219\n",
      "\n",
      "Column 2: \n",
      "   Mean: 1.0000003949905966e-11\n",
      "   Standard deviation: 1.0000000000058604\n",
      "\n",
      "Column 3: \n",
      "   Mean: 1.0000017480749079e-11\n",
      "   Standard deviation: 1.0000000000033717\n",
      "\n"
     ]
    }
   ],
   "source": [
    "for i in range ( 0 , 4 ):\n",
    "    print(\"Column \"+str(i)+\": \")\n",
    "    print(\"   Mean: \"+str(np.mean(task_2_txt , axis = 0)[i]))\n",
    "    print(\"   Standard deviation: \"+str(np.std(task_2_txt , axis = 0)[i])+\"\\n\")"
   ]
  },
  {
   "cell_type": "code",
   "execution_count": 37,
   "metadata": {
    "scrolled": false
   },
   "outputs": [
    {
     "name": "stdout",
     "output_type": "stream",
     "text": [
      "Row 3 before edit:\n",
      "[-0.20682088  1.34891973  1.87906991  1.28061368]\n",
      "\n",
      "Row 3 after edit:\n",
      "[1. 1. 1. 1.]\n"
     ]
    }
   ],
   "source": [
    "print(\"Row 3 before edit:\")\n",
    "print(task_2_txt[2,:])\n",
    "task_2_txt[2] = [1,1,1,1]\n",
    "print(\"\\nRow 3 after edit:\")\n",
    "print(task_2_txt[2,:])"
   ]
  },
  {
   "cell_type": "code",
   "execution_count": 38,
   "metadata": {
    "scrolled": true
   },
   "outputs": [
    {
     "name": "stdout",
     "output_type": "stream",
     "text": [
      "The 2nd element of the following rows are larger than 0.5: \n",
      "\n",
      "0\n",
      "[ 1.44009018  1.31579679 -1.20351222 -0.64975055]\n",
      "\n",
      "1\n",
      "[ 1.45845961  1.12070275 -2.08544131  0.60239487]\n",
      "\n",
      "2\n",
      "[1. 1. 1. 1.]\n",
      "\n",
      "4\n",
      "[-0.05758539  1.35928316 -0.90377374  0.17181682]\n",
      "\n",
      "5\n",
      "[-1.05001347  1.42387013  0.57918597  0.59410267]\n",
      "\n",
      "14\n",
      "[-0.39320627  1.12419476  1.94996322  1.33808555]\n",
      "\n",
      "16\n",
      "[-0.79640397  0.65937073  0.36039459  1.33246741]\n"
     ]
    }
   ],
   "source": [
    "# prints tha rownumbers of those rows where the 2nd element is over 0.5\n",
    "print(\"The 2nd element of the following rows are larger than 0.5: \")\n",
    "testarray = np.array(np.where(task_2_txt>0.5), dtype = int)\n",
    "\n",
    "for i in range( 0 , len(np.where(task_2_txt>0.5)[1])):\n",
    "    if ( testarray[1][i] == 1 ):\n",
    "        print(\"\\n\"+str(testarray[0][i]))\n",
    "        print(task_2_txt[testarray[0][i], :])"
   ]
  },
  {
   "cell_type": "markdown",
   "metadata": {},
   "source": [
    "-- Task 3 begins --"
   ]
  },
  {
   "cell_type": "code",
   "execution_count": 39,
   "metadata": {
    "collapsed": true
   },
   "outputs": [],
   "source": [
    "# read the .txt document to a variable\n",
    "task_3_txt = np.loadtxt(\"task_III_data.txt\",dtype=float,delimiter=\",\")"
   ]
  },
  {
   "cell_type": "code",
   "execution_count": 40,
   "metadata": {
    "collapsed": true
   },
   "outputs": [],
   "source": [
    "# transpose the array and assign the columns from earlier to variables\n",
    "z = np.transpose(task_3_txt)[0]\n",
    "y = np.transpose(task_3_txt)[1]\n",
    "\n",
    "# define interpolation functions\n",
    "f = interp1d(z, y)\n",
    "f2 = interp1d(z, y, kind='cubic')\n",
    "\n",
    "# define new values for z (200 values between 0 and 40)\n",
    "z2 = np.linspace(0,40, num=200)"
   ]
  },
  {
   "cell_type": "code",
   "execution_count": 32,
   "metadata": {},
   "outputs": [
    {
     "data": {
      "image/png": "[encoded data removed]",
      "text/plain": [
       "<matplotlib.figure.Figure at 0xfbed080>"
      ]
     },
     "metadata": {},
     "output_type": "display_data"
    }
   ],
   "source": [
    "# plot the original data and interpolated curves\n",
    "\n",
    "# size of figure\n",
    "plt.figure(figsize=(10,5))\n",
    "\n",
    "# plot the three different datasets and define markers/linetypes and colours\n",
    "plt.plot( z , y , \"go\" , label = \"Data\");\n",
    "plt.plot( z2 , f(z2) , \"r-\" , label = \"Linear\");\n",
    "plt.plot( z2 , f2(z2) , \"b--\", label = \"Cubic\" );\n",
    "\n",
    "# add titles and labels\n",
    "plt.title(\"Input data and interpolated functions\")\n",
    "plt.xlabel(\"Input value\")\n",
    "plt.ylabel(\"Function value\")\n",
    "plt.legend(loc='upper left')\n",
    "\n",
    "# show the plot\n",
    "plt.show()"
   ]
  },
  {
   "cell_type": "code",
   "execution_count": null,
   "metadata": {
    "collapsed": true
   },
   "outputs": [],
   "source": []
  }
 ],
 "metadata": {
  "kernelspec": {
   "display_name": "Python 3",
   "language": "python",
   "name": "python3"
  },
  "language_info": {
   "codemirror_mode": {
    "name": "ipython",
    "version": 3
   },
   "file_extension": ".py",
   "mimetype": "text/x-python",
   "name": "python",
   "nbconvert_exporter": "python",
   "pygments_lexer": "ipython3",
   "version": "3.6.2"
  }
 },
 "nbformat": 4,
 "nbformat_minor": 2
}
