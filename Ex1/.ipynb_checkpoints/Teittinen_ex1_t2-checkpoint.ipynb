{
 "cells": [
  {
   "cell_type": "code",
   "execution_count": 317,
   "metadata": {
    "collapsed": true
   },
   "outputs": [],
   "source": [
    "# import numpy\n",
    "import numpy as np"
   ]
  },
  {
   "cell_type": "code",
   "execution_count": 318,
   "metadata": {
    "collapsed": true
   },
   "outputs": [],
   "source": [
    "# read the .txt document to a variable\n",
    "task_2_txt = open(\"task_II_data.txt\",\"r\")\n",
    "\n",
    "# read the text lines from the file to a variable\n",
    "t2_lines = task_2_txt.readlines()"
   ]
  },
  {
   "cell_type": "code",
   "execution_count": 319,
   "metadata": {
    "collapsed": true
   },
   "outputs": [],
   "source": [
    "# intialize empty array\n",
    "# this is named test, because it started as a test array, but eventually became the one I used\n",
    "test = []"
   ]
  },
  {
   "cell_type": "code",
   "execution_count": 320,
   "metadata": {
    "collapsed": true
   },
   "outputs": [],
   "source": [
    "# split original data at \",\" and add to the end of the empty array\n",
    "for i in range( 0 , len(t2_lines) ):\n",
    "    test.append(t2_lines[i].split(\",\"))"
   ]
  },
  {
   "cell_type": "code",
   "execution_count": 321,
   "metadata": {
    "collapsed": true
   },
   "outputs": [],
   "source": [
    "# remove \"/n\" from the last element of each line\n",
    "for i in range( 0 , len(test) ):\n",
    "    test[i][len(test[i])-1] = test[i][len(test[i])-1][0:len(test[i][len(test[i])-1])-1]"
   ]
  },
  {
   "cell_type": "code",
   "execution_count": 322,
   "metadata": {
    "collapsed": true
   },
   "outputs": [],
   "source": [
    "# convert the elements to floats\n",
    "for i in range( 0 , len(test) ):\n",
    "    for j in range( 0 , len(test[i]) ):\n",
    "        test[i][j] = float(test[i][j])"
   ]
  },
  {
   "cell_type": "code",
   "execution_count": 323,
   "metadata": {
    "collapsed": true
   },
   "outputs": [],
   "source": [
    "# convert the array to a numpy array\n",
    "test = np.array(test)"
   ]
  },
  {
   "cell_type": "code",
   "execution_count": 324,
   "metadata": {
    "collapsed": true,
    "scrolled": true
   },
   "outputs": [],
   "source": [
    "# go through each line and element and delete that line if any of its elements is nan\n",
    "x = len(test)\n",
    "i = 0\n",
    "\n",
    "while( i < x ):\n",
    "    for j in range( 0 , len(test[i]) ):\n",
    "        if(np.isnan(test[i][j])):\n",
    "            test = np.delete( test , (i) , 0) # if np.isnan(test[i][j])==True, delete row\n",
    "            x = len(test) # update upper bound of while loop when one line is deleted\n",
    "            i = i - 1 # to check the new ith row again after deleting\n",
    "            break # break the inner for-loop when nan is found\n",
    "    i = i + 1"
   ]
  },
  {
   "cell_type": "code",
   "execution_count": 325,
   "metadata": {},
   "outputs": [
    {
     "name": "stdout",
     "output_type": "stream",
     "text": [
      "Column 0: \n",
      "   Mean: 4.999967107011116e-12\n",
      "   Standard deviation: 0.9999999999931781\n",
      "\n",
      "Column 1: \n",
      "   Mean: 1.0000084094130557e-11\n",
      "   Standard deviation: 0.9999999999988219\n",
      "\n",
      "Column 2: \n",
      "   Mean: 1.0000003949905966e-11\n",
      "   Standard deviation: 1.0000000000058604\n",
      "\n",
      "Column 3: \n",
      "   Mean: 1.0000017480749079e-11\n",
      "   Standard deviation: 1.0000000000033717\n",
      "\n"
     ]
    }
   ],
   "source": [
    "for i in range ( 0 , 4 ):\n",
    "    print(\"Column \"+str(i)+\": \")\n",
    "    print(\"   Mean: \"+str(np.mean(test , axis = 0)[i]))\n",
    "    print(\"   Standard deviation: \"+str(np.std(test , axis = 0)[i])+\"\\n\")"
   ]
  },
  {
   "cell_type": "code",
   "execution_count": 326,
   "metadata": {},
   "outputs": [
    {
     "name": "stdout",
     "output_type": "stream",
     "text": [
      "Mean value of row 2: 0.27402897962500006\n"
     ]
    }
   ],
   "source": [
    "print(\"Mean value of row 2: \"+str(np.mean(test , axis=1)[1]))"
   ]
  },
  {
   "cell_type": "code",
   "execution_count": 327,
   "metadata": {},
   "outputs": [
    {
     "name": "stdout",
     "output_type": "stream",
     "text": [
      "Row 3 before edit:\n",
      "[-0.20682088  1.34891973  1.87906991  1.28061368]\n",
      "\n",
      "Row 3 after edit:\n",
      "[3. 3. 3. 3.]\n"
     ]
    }
   ],
   "source": [
    "print(\"Row 3 before edit:\")\n",
    "print(test[2,:])\n",
    "test[2] = [3,3,3,3]\n",
    "print(\"\\nRow 3 after edit:\")\n",
    "print(test[2,:])"
   ]
  },
  {
   "cell_type": "code",
   "execution_count": 328,
   "metadata": {},
   "outputs": [
    {
     "name": "stdout",
     "output_type": "stream",
     "text": [
      "The 2nd element of the following rows are larger than 0.5: \n",
      "\n",
      "0\n",
      "[ 1.44009018  1.31579679 -1.20351222 -0.64975055]\n",
      "\n",
      "1\n",
      "[ 1.45845961  1.12070275 -2.08544131  0.60239487]\n",
      "\n",
      "2\n",
      "[3. 3. 3. 3.]\n",
      "\n",
      "4\n",
      "[-0.05758539  1.35928316 -0.90377374  0.17181682]\n",
      "\n",
      "5\n",
      "[-1.05001347  1.42387013  0.57918597  0.59410267]\n",
      "\n",
      "14\n",
      "[-0.39320627  1.12419476  1.94996322  1.33808555]\n",
      "\n",
      "16\n",
      "[-0.79640397  0.65937073  0.36039459  1.33246741]\n"
     ]
    }
   ],
   "source": [
    "# prints tha rownumbers of those rows where the 2nd element is over 0.5\n",
    "print(\"The 2nd element of the following rows are larger than 0.5: \")\n",
    "testarray = np.array(np.where(test>0.5), dtype = int)\n",
    "\n",
    "for i in range( 0 , len(np.where(test>0.5)[1])):\n",
    "    if ( testarray[1][i] == 1 ):\n",
    "        print(\"\\n\"+str(testarray[0][i]))\n",
    "        print(test[testarray[0][i], :])"
   ]
  },
  {
   "cell_type": "code",
   "execution_count": null,
   "metadata": {
    "collapsed": true
   },
   "outputs": [],
   "source": []
  }
 ],
 "metadata": {
  "kernelspec": {
   "display_name": "Python 3",
   "language": "python",
   "name": "python3"
  },
  "language_info": {
   "codemirror_mode": {
    "name": "ipython",
    "version": 3
   },
   "file_extension": ".py",
   "mimetype": "text/x-python",
   "name": "python",
   "nbconvert_exporter": "python",
   "pygments_lexer": "ipython3",
   "version": "3.6.2"
  }
 },
 "nbformat": 4,
 "nbformat_minor": 2
}
