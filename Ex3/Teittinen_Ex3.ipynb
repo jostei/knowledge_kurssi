{
 "cells": [
  {
   "cell_type": "markdown",
   "metadata": {},
   "source": [
    "# 3rd demo: Supervised learning\n",
    "### The cells with the learning test takes a while (at least on this PC) to run"
   ]
  },
  {
   "cell_type": "code",
   "execution_count": 54,
   "metadata": {
    "collapsed": true
   },
   "outputs": [],
   "source": [
    "import numpy as np\n",
    "import pandas as pd\n",
    "import matplotlib.pyplot as plt\n",
    "from scipy.stats import zscore"
   ]
  },
  {
   "cell_type": "markdown",
   "metadata": {},
   "source": [
    "## 1. Explore the data. Preprocessing."
   ]
  },
  {
   "cell_type": "code",
   "execution_count": 55,
   "metadata": {
    "collapsed": true
   },
   "outputs": [],
   "source": [
    "shipdata = pd.read_csv(\"shipdata.txt\", sep='\\t')"
   ]
  },
  {
   "cell_type": "code",
   "execution_count": 56,
   "metadata": {
    "scrolled": false
   },
   "outputs": [
    {
     "data": {
      "text/html": [
       "<div>\n",
       "<style>\n",
       "    .dataframe thead tr:only-child th {\n",
       "        text-align: right;\n",
       "    }\n",
       "\n",
       "    .dataframe thead th {\n",
       "        text-align: left;\n",
       "    }\n",
       "\n",
       "    .dataframe tbody tr th {\n",
       "        vertical-align: top;\n",
       "    }\n",
       "</style>\n",
       "<table border=\"1\" class=\"dataframe\">\n",
       "  <thead>\n",
       "    <tr style=\"text-align: right;\">\n",
       "      <th></th>\n",
       "      <th>MMSI</th>\n",
       "      <th>Speed (knots)</th>\n",
       "      <th>COG (degrees)</th>\n",
       "      <th>Destination</th>\n",
       "      <th>Ship type</th>\n",
       "      <th>Gross tonnage</th>\n",
       "      <th>Length (m)</th>\n",
       "      <th>Breadth (m)</th>\n",
       "    </tr>\n",
       "  </thead>\n",
       "  <tbody>\n",
       "    <tr>\n",
       "      <th>0</th>\n",
       "      <td>636015204</td>\n",
       "      <td>10.1</td>\n",
       "      <td>64.3</td>\n",
       "      <td>Hamina</td>\n",
       "      <td>Cargo</td>\n",
       "      <td>3416</td>\n",
       "      <td>94.9</td>\n",
       "      <td>15.3</td>\n",
       "    </tr>\n",
       "    <tr>\n",
       "      <th>1</th>\n",
       "      <td>230182000</td>\n",
       "      <td>8.4</td>\n",
       "      <td>65.8</td>\n",
       "      <td>Hamina</td>\n",
       "      <td>Cargo</td>\n",
       "      <td>3978</td>\n",
       "      <td>1000.0</td>\n",
       "      <td>16.5</td>\n",
       "    </tr>\n",
       "    <tr>\n",
       "      <th>2</th>\n",
       "      <td>230601000</td>\n",
       "      <td>10.1</td>\n",
       "      <td>74.9</td>\n",
       "      <td>Hamina</td>\n",
       "      <td>Cargo</td>\n",
       "      <td>2280</td>\n",
       "      <td>82.6</td>\n",
       "      <td>12.3</td>\n",
       "    </tr>\n",
       "    <tr>\n",
       "      <th>3</th>\n",
       "      <td>636092755</td>\n",
       "      <td>9.2</td>\n",
       "      <td>74.6</td>\n",
       "      <td>Hamina</td>\n",
       "      <td>Cargo</td>\n",
       "      <td>8620</td>\n",
       "      <td>137.1</td>\n",
       "      <td>19.1</td>\n",
       "    </tr>\n",
       "    <tr>\n",
       "      <th>4</th>\n",
       "      <td>215058000</td>\n",
       "      <td>9.6</td>\n",
       "      <td>73.2</td>\n",
       "      <td>Hamina</td>\n",
       "      <td>Cargo</td>\n",
       "      <td>1905</td>\n",
       "      <td>87.9</td>\n",
       "      <td>11.4</td>\n",
       "    </tr>\n",
       "  </tbody>\n",
       "</table>\n",
       "</div>"
      ],
      "text/plain": [
       "        MMSI  Speed (knots)  COG (degrees) Destination Ship type  \\\n",
       "0  636015204           10.1           64.3      Hamina     Cargo   \n",
       "1  230182000            8.4           65.8      Hamina     Cargo   \n",
       "2  230601000           10.1           74.9      Hamina     Cargo   \n",
       "3  636092755            9.2           74.6      Hamina     Cargo   \n",
       "4  215058000            9.6           73.2      Hamina     Cargo   \n",
       "\n",
       "   Gross tonnage  Length (m)  Breadth (m)  \n",
       "0           3416        94.9         15.3  \n",
       "1           3978      1000.0         16.5  \n",
       "2           2280        82.6         12.3  \n",
       "3           8620       137.1         19.1  \n",
       "4           1905        87.9         11.4  "
      ]
     },
     "execution_count": 56,
     "metadata": {},
     "output_type": "execute_result"
    }
   ],
   "source": [
    "shipdata.head()"
   ]
  },
  {
   "cell_type": "code",
   "execution_count": 57,
   "metadata": {},
   "outputs": [
    {
     "name": "stdout",
     "output_type": "stream",
     "text": [
      "Different ship types and their number:\n",
      "\n"
     ]
    },
    {
     "data": {
      "text/plain": [
       "Cargo     50\n",
       "Tanker    48\n",
       "Tug        9\n",
       "Name: Ship type, dtype: int64"
      ]
     },
     "execution_count": 57,
     "metadata": {},
     "output_type": "execute_result"
    }
   ],
   "source": [
    "# Count distinct values in teh column \"Ship type\"\n",
    "\n",
    "print(\"Different ship types and their number:\\n\")\n",
    "\n",
    "shipdata[\"Ship type\"].value_counts()"
   ]
  },
  {
   "cell_type": "code",
   "execution_count": 58,
   "metadata": {
    "scrolled": false
   },
   "outputs": [
    {
     "data": {
      "image/png": "[encoded data removed]",
      "text/plain": [
       "<matplotlib.figure.Figure at 0x14650c50>"
      ]
     },
     "metadata": {},
     "output_type": "display_data"
    },
    {
     "name": "stdout",
     "output_type": "stream",
     "text": [
      "We clearly see one outlier with length of 1000m.\n",
      "\n",
      "We plot again withtout the row where Length (m) == 1000:\n",
      "\n"
     ]
    },
    {
     "data": {
      "image/png": "[encoded data removed]",
      "text/plain": [
       "<matplotlib.figure.Figure at 0x14784208>"
      ]
     },
     "metadata": {},
     "output_type": "display_data"
    },
    {
     "name": "stdout",
     "output_type": "stream",
     "text": [
      "Now the spread looks better. The one datapoint in the far right might be an outlier, but the separation is not too big to be sure.\n"
     ]
    }
   ],
   "source": [
    "# Scatter plot of ship length vs gross tonnage\n",
    "\n",
    "shipdata.plot(\"Length (m)\", \"Gross tonnage\",kind=\"scatter\");\n",
    "plt.title(\"Scatterplot of ship length vs gross tonnage\")\n",
    "plt.show()\n",
    "\n",
    "print(\"We clearly see one outlier with length of 1000m.\\n\\nWe plot again withtout the row where Length (m) == 1000:\\n\")\n",
    "shipdata[shipdata[\"Length (m)\"]!=1000.0].plot(\"Length (m)\", \"Gross tonnage\",kind=\"scatter\");\n",
    "plt.title(\"Scatterplot of ship length vs gross tonnage\")\n",
    "plt.show()\n",
    "\n",
    "print(\"Now the spread looks better. The one datapoint in the far right might be an outlier,\",end=\"\")\n",
    "print(\" but the separation is not too big to be sure.\")\n",
    "\n",
    "# delete the row from the original\n",
    "shipdata=shipdata[shipdata[\"Length (m)\"]!=1000.0]"
   ]
  },
  {
   "cell_type": "code",
   "execution_count": 59,
   "metadata": {
    "collapsed": true
   },
   "outputs": [],
   "source": [
    "# Join the dummy variable table of destinations to the end of the original dataframe\n",
    "\n",
    "#shipdata[\"Destination\"] = pd.factorize(shipdata[\"Destination\"])[0]\n",
    "\n",
    "shipdata = shipdata.join(pd.get_dummies(shipdata[\"Destination\"]))"
   ]
  },
  {
   "cell_type": "code",
   "execution_count": 60,
   "metadata": {
    "collapsed": true
   },
   "outputs": [],
   "source": [
    "# Convert ship type and destination to string\n",
    "\n",
    "shipdata[\"Ship type\"] = shipdata[\"Ship type\"].astype(str)\n",
    "shipdata[\"Destination\"] = shipdata[\"Destination\"].astype(str)"
   ]
  },
  {
   "cell_type": "code",
   "execution_count": 61,
   "metadata": {
    "collapsed": true
   },
   "outputs": [],
   "source": [
    "# Z-score stadardization for speed\n",
    "\n",
    "shipdata[\"Speed (knots)\"] = shipdata[\"Speed (knots)\"].apply(lambda x: (x - np.mean(shipdata[\"Speed (knots)\"]))/np.std(shipdata[\"Speed (knots)\"]) )"
   ]
  },
  {
   "cell_type": "code",
   "execution_count": 62,
   "metadata": {
    "collapsed": true
   },
   "outputs": [],
   "source": [
    "# Z-score stadardization for gross tonnage\n",
    "\n",
    "shipdata[\"Gross tonnage\"] = shipdata[\"Gross tonnage\"].apply(lambda x: (x - np.mean(shipdata[\"Gross tonnage\"]))/np.std(shipdata[\"Gross tonnage\"]) )"
   ]
  },
  {
   "cell_type": "code",
   "execution_count": 63,
   "metadata": {
    "collapsed": true
   },
   "outputs": [],
   "source": [
    "# Z-score stadardization for length\n",
    "\n",
    "shipdata[\"Length (m)\"] = shipdata[\"Length (m)\"].apply(lambda x: (x - np.mean(shipdata[\"Length (m)\"]))/np.std(shipdata[\"Length (m)\"]) )"
   ]
  },
  {
   "cell_type": "code",
   "execution_count": 64,
   "metadata": {
    "collapsed": true
   },
   "outputs": [],
   "source": [
    "# Z-score stadardization for breadth\n",
    "\n",
    "shipdata[\"Breadth (m)\"] = shipdata[\"Breadth (m)\"].apply(lambda x: (x - np.mean(shipdata[\"Breadth (m)\"]))/np.std(shipdata[\"Breadth (m)\"]) )"
   ]
  },
  {
   "cell_type": "code",
   "execution_count": 76,
   "metadata": {
    "collapsed": true
   },
   "outputs": [],
   "source": [
    "# list of indices of comparable data (Speed, Gross tonnage, Length, Breadth, and Destinations)\n",
    "\n",
    "crop_indices = [1]+list(range(5,23))"
   ]
  },
  {
   "cell_type": "markdown",
   "metadata": {},
   "source": [
    "## 2. Predict the ship type with the speed, destination, length, breadth and gross tonnage data using kNN classifier with k=3. Find an estimation for the classification accuracy using <font color=blue>random training and test sets</font>."
   ]
  },
  {
   "cell_type": "code",
   "execution_count": 66,
   "metadata": {
    "collapsed": true
   },
   "outputs": [],
   "source": [
    "# Import NearestNeighbors from sklearn\n",
    "\n",
    "from sklearn.neighbors import NearestNeighbors"
   ]
  },
  {
   "cell_type": "code",
   "execution_count": 67,
   "metadata": {
    "scrolled": true
   },
   "outputs": [
    {
     "name": "stdout",
     "output_type": "stream",
     "text": [
      "25 % done.\n",
      "50 % done.\n",
      "75 % done.\n",
      "Done!\n"
     ]
    }
   ],
   "source": [
    "#\n",
    "# Create an array for the final test results\n",
    "#\n",
    "\n",
    "test_results = np.zeros(1000)\n",
    "\n",
    "#\n",
    "# Loop the process below 1000 times and record results to the array\n",
    "#\n",
    "\n",
    "for x in range(1000):\n",
    "\n",
    "    # Randomize the original list\n",
    "    # Since the type of ship probably affects its length and gross tonnage,\n",
    "    # it is wise to sample separately from each type\n",
    "    #\n",
    "    # Randomize and separate by ship type\n",
    "\n",
    "    randomsample_Cargo = shipdata[shipdata[\"Ship type\"] == \"Cargo\"].sample(n=int(len(shipdata[shipdata[\"Ship type\"] == \"Cargo\"])))\n",
    "    randomsample_Tanker = shipdata[shipdata[\"Ship type\"] == \"Tanker\"].sample(n=int(len(shipdata[shipdata[\"Ship type\"] == \"Tanker\"])))\n",
    "    randomsample_Tug = shipdata[shipdata[\"Ship type\"] == \"Tug\"].sample(n=int(len(shipdata[shipdata[\"Ship type\"] == \"Tug\"])))\n",
    "\n",
    "    #\n",
    "    # Pick first 70% of the lines for training... \n",
    "    #\n",
    "\n",
    "    traindata = randomsample_Cargo[0:int(0.7*len(randomsample_Cargo))]\n",
    "    traindata = traindata.append(randomsample_Tanker[0:int(0.7*len(randomsample_Tanker))])\n",
    "    traindata = traindata.append(randomsample_Tug[0:int(0.7*len(randomsample_Tug))])\n",
    "    traindata_type = traindata[\"Ship type\"]\n",
    "\n",
    "    #\n",
    "    # ...and rest for testing\n",
    "    #\n",
    "\n",
    "    testdata = randomsample_Cargo[int(0.7*len(randomsample_Cargo)):]\n",
    "    testdata = testdata.append(randomsample_Tanker[int(0.7*len(randomsample_Tanker)):])\n",
    "    testdata = testdata.append(randomsample_Tug[int(0.7*len(randomsample_Tug)):])\n",
    "    testdata_type = testdata[\"Ship type\"]\n",
    "\n",
    "    #\n",
    "    # picking multiple columns tip from https://stackoverflow.com/a/48545159\n",
    "    #\n",
    "\n",
    "    traindata_crop = traindata.iloc[:,crop_indices]\n",
    "    testdata_crop = testdata.iloc[:,crop_indices]\n",
    "\n",
    "    #\n",
    "    # From https://scikit-learn.org/stable/modules/neighbors.html#unsupervised-nearest-neighbors\n",
    "    # first example of \"1.6.1.1. Finding the Nearest Neighbors\"\n",
    "    #\n",
    "    # Calculate for 3 nearest neighbors\n",
    "    #\n",
    "\n",
    "    nbrs = NearestNeighbors(n_neighbors=3, algorithm='ball_tree').fit(traindata_crop)\n",
    "    distances, indices = nbrs.kneighbors(testdata_crop)\n",
    "\n",
    "    #\n",
    "    # Create table for test results\n",
    "    #\n",
    "\n",
    "    test_types = pd.DataFrame({\"Ship type 1\": range(len(indices)), \"Ship type 2\": range(len(indices)), \"Ship type 3\": range(len(indices))}, dtype = str)\n",
    "\n",
    "    #\n",
    "    # Insert the ship type of each nearest neighbor to the test_types array\n",
    "    #\n",
    "\n",
    "    for i in range (len(indices)):\n",
    "        test_types[\"Ship type 1\"][i] = traindata_type.iloc[indices[i][0]]\n",
    "        test_types[\"Ship type 2\"][i] = traindata_type.iloc[indices[i][1]]\n",
    "        test_types[\"Ship type 3\"][i] = traindata_type.iloc[indices[i][2]]\n",
    "\n",
    "    #\n",
    "    # Calculate the number of correct predictions and print results\n",
    "    #\n",
    "    # test_types.mode(axis=1)[i][0] picks the most frequent element of row i\n",
    "    #\n",
    "\n",
    "    array_1 = test_types.mode(axis=1)\n",
    "    \n",
    "    sum = 0\n",
    "\n",
    "    for i in range (len(testdata)):\n",
    "        if (array_1.iloc[i][0] == testdata_type.iloc[i]):\n",
    "            sum = sum + 1\n",
    "\n",
    "    test_results[x] = (sum/len(testdata))*100\n",
    "    \n",
    "    #\n",
    "    # Progress counter for debugging and fun\n",
    "    #\n",
    "        \n",
    "    if(x == 250 or x == 500 or x == 750):\n",
    "        print(int(x/10),\"% done.\")\n",
    "    if(x == 999):\n",
    "        print(\"Done!\")"
   ]
  },
  {
   "cell_type": "code",
   "execution_count": 68,
   "metadata": {
    "scrolled": true
   },
   "outputs": [
    {
     "data": {
      "image/png": "[encoded data removed]",
      "text/plain": [
       "<matplotlib.figure.Figure at 0x14688470>"
      ]
     },
     "metadata": {},
     "output_type": "display_data"
    }
   ],
   "source": [
    "#plt.figure(figsize=(10,8))\n",
    "plt.hist(test_results, bins = 11)\n",
    "plt.xlabel(\"Percent of correct predictions\")\n",
    "plt.ylabel(\"Count of correct predictions\")\n",
    "plt.title(\"Histogram of correct prediction with random 70/30 training\\n and learning partition for 1000 repetitions\")\n",
    "plt.show()"
   ]
  },
  {
   "cell_type": "code",
   "execution_count": 69,
   "metadata": {},
   "outputs": [
    {
     "name": "stdout",
     "output_type": "stream",
     "text": [
      "Minimum percent of correct predicions:  63.63636363636363 %\n",
      "Maximum percent of correct predictions:  96.96969696969697 %\n",
      "Mean percentage of correct predictions:  82.82121212121211 %\n"
     ]
    }
   ],
   "source": [
    "print(\"Minimum percent of correct predicions: \",np.min(test_results),\"%\")\n",
    "print(\"Maximum percent of correct predictions: \",np.max(test_results),\"%\")\n",
    "print(\"Mean percentage of correct predictions: \",np.mean(test_results),\"%\")"
   ]
  },
  {
   "cell_type": "markdown",
   "metadata": {
    "collapsed": true
   },
   "source": [
    "The peak of correct prediction is always ~82 percent (slightly depending on the partition of the test set) and most predictions are >60% correct."
   ]
  },
  {
   "cell_type": "markdown",
   "metadata": {},
   "source": [
    "## 3. Predict the ship type with the speed, destination, length, breadth and gross tonnage data using kNN classifier with k=3. Find an estimation of the classification accuracy using <font color=blue>leave-one-out</font>. Find the optimal value for k."
   ]
  },
  {
   "cell_type": "code",
   "execution_count": 70,
   "metadata": {},
   "outputs": [
    {
     "name": "stdout",
     "output_type": "stream",
     "text": [
      "25 % done.\n",
      "50 % done.\n",
      "75 % done.\n",
      "Done!\n"
     ]
    }
   ],
   "source": [
    "#\n",
    "# Initialize result arrays\n",
    "#\n",
    "\n",
    "test_results_2 = np.zeros(20)\n",
    "shipdata_type = shipdata[\"Ship type\"]\n",
    "\n",
    "#\n",
    "# Loop for 1-20 number of nearest neighbors \n",
    "#\n",
    "\n",
    "for z in range(1,21):\n",
    "    \n",
    "    test_types_2 = pd.DataFrame(index=range(len(shipdata)),columns=range(z), dtype = str)\n",
    "    for k in range(len(shipdata)):\n",
    "\n",
    "\n",
    "        #\n",
    "        # Pick one row at a time to test\n",
    "        #\n",
    "\n",
    "        testdata_2 = shipdata[k:k+1]\n",
    "        testdata_2_crop = shipdata[k:k+1].iloc[:,crop_indices]\n",
    "\n",
    "        #\n",
    "        # Create test set from all other rows\n",
    "        #\n",
    "\n",
    "        trainindices = np.delete(np.linspace(0,len(shipdata)-1,num=(len(shipdata)),dtype=int), k)\n",
    "        traindata_2 = shipdata.iloc[list(trainindices),:]\n",
    "        traindata_2_crop = shipdata.iloc[list(trainindices),crop_indices]\n",
    "\n",
    "        #\n",
    "        # From https://scikit-learn.org/stable/modules/neighbors.html#unsupervised-nearest-neighbors\n",
    "        # first example of \"1.6.1.1. Finding the Nearest Neighbors\"\n",
    "        #\n",
    "        # Calculate for z nearest neighbors, z ranging from 1 to 20\n",
    "        #\n",
    "        \n",
    "        nbrs_2 = NearestNeighbors(n_neighbors=z, algorithm='ball_tree').fit(traindata_2_crop)\n",
    "        distances_2, indices_2 = nbrs_2.kneighbors(testdata_2_crop)\n",
    "\n",
    "        #\n",
    "        # Insert the ship type of each nearest neighbor to the test_types_2 array\n",
    "        #\n",
    "\n",
    "        for i in range(z):\n",
    "            test_types_2.loc[k,i] = traindata_2[\"Ship type\"].iloc[indices_2[0][i]]\n",
    "\n",
    "        #\n",
    "        # Calculate the number of correct predictions and store in test_results_2\n",
    "        #\n",
    "\n",
    "        array_2 = test_types_2.mode(axis=1)\n",
    "\n",
    "        sum = 0\n",
    "\n",
    "        for i in range (len(test_types_2)):\n",
    "            if (array_2.iloc[i][0] == shipdata_type.iloc[i]):\n",
    "                sum = sum + 1\n",
    "\n",
    "        test_results_2[z-1] = (sum/len(test_types_2))*100\n",
    "        \n",
    "    #\n",
    "    # Progress counter for debugging and fun\n",
    "    #\n",
    "        \n",
    "    if(z == 5 or z == 10 or z == 15):\n",
    "        print((z*5),\"% done.\")\n",
    "    if(z == 20):\n",
    "        print(\"Done!\")\n",
    "    "
   ]
  },
  {
   "cell_type": "code",
   "execution_count": 71,
   "metadata": {
    "scrolled": true
   },
   "outputs": [
    {
     "data": {
      "image/png": "[encoded data removed]",
      "text/plain": [
       "<matplotlib.figure.Figure at 0x140afe10>"
      ]
     },
     "metadata": {},
     "output_type": "display_data"
    }
   ],
   "source": [
    "#plt.figure(figsize=(10,8))\n",
    "plt.scatter(np.linspace(1,20,num=20),test_results_2)\n",
    "plt.xticks(np.arange(0, 21, step=1))\n",
    "plt.title(\"Percent of correct predictions with 1-20 nearest neighbors\\n using the leave-one-out method for testing\")\n",
    "plt.grid(True)\n",
    "plt.xlabel(\"Number of nearest neighbors\")\n",
    "plt.ylabel(\"Percent of correct predictions\")\n",
    "plt.show()"
   ]
  },
  {
   "cell_type": "markdown",
   "metadata": {
    "collapsed": true
   },
   "source": [
    "From the plot above, we see that the lower number of nearest neighbours provide the best results with leave-one-out method of testing. The best success rate can be found using 6 nearest neighbors with ~85%. Compared to the 70/30 testing in the previous section, this method gives more correct predictions, and there is no randomness in the success values."
   ]
  },
  {
   "cell_type": "markdown",
   "metadata": {},
   "source": [
    "## 4. Testing with training data"
   ]
  },
  {
   "cell_type": "code",
   "execution_count": 72,
   "metadata": {},
   "outputs": [
    {
     "name": "stdout",
     "output_type": "stream",
     "text": [
      "25 % done.\n",
      "50 % done.\n",
      "75 % done.\n",
      "Done!\n"
     ]
    }
   ],
   "source": [
    "#\n",
    "# Initialize result arrays\n",
    "#\n",
    "\n",
    "test_results_3 = np.zeros(20)\n",
    "shipdata_type = shipdata[\"Ship type\"]\n",
    "\n",
    "#\n",
    "# Loop for 1-20 number of nearest neighbors \n",
    "#\n",
    "\n",
    "for z in range(1,21):\n",
    "    \n",
    "    test_types_3 = pd.DataFrame(index=range(len(shipdata)),columns=range(z), dtype = str)\n",
    "    for k in range(len(shipdata)):\n",
    "\n",
    "\n",
    "        #\n",
    "        # Pick all the rows for testing...\n",
    "        #\n",
    "\n",
    "        testdata_3 = shipdata\n",
    "        testdata_3_crop = shipdata.iloc[:,crop_indices]\n",
    "\n",
    "        #\n",
    "        # ..and for training\n",
    "        #\n",
    "\n",
    "        traindata_3 = shipdata\n",
    "        traindata_3_crop = shipdata.iloc[:,crop_indices]\n",
    "\n",
    "        #\n",
    "        # From https://scikit-learn.org/stable/modules/neighbors.html#unsupervised-nearest-neighbors\n",
    "        # first example of \"1.6.1.1. Finding the Nearest Neighbors\"\n",
    "        #\n",
    "        # Calculate for z nearest neighbors, z ranging from 1 to 20\n",
    "        #\n",
    "        \n",
    "        nbrs_3 = NearestNeighbors(n_neighbors=z, algorithm='ball_tree').fit(traindata_3_crop)\n",
    "        distances_3, indices_3 = nbrs_3.kneighbors(testdata_3_crop)\n",
    "\n",
    "        #\n",
    "        # Insert the ship type of each nearest neighbor to the test_types_2 array\n",
    "        #\n",
    "\n",
    "        for x in range(len(test_types_3)):\n",
    "            for i in range(z):\n",
    "                test_types_3.loc[x,i] = traindata_3[\"Ship type\"].iloc[indices_3[x][i]]\n",
    "\n",
    "        #\n",
    "        # Calculate the number of correct predictions and store in test_results_2\n",
    "        #\n",
    "\n",
    "        array_3 = test_types_3.mode(axis=1)\n",
    "\n",
    "        sum = 0\n",
    "\n",
    "        for i in range (len(test_types_3)):\n",
    "            if (array_3.iloc[i][0] == shipdata_type.iloc[i]):\n",
    "                sum = sum + 1\n",
    "\n",
    "        test_results_3[z-1] = (sum/len(test_types_3))*100\n",
    "        \n",
    "    #\n",
    "    # Progress counter for debugging and fun\n",
    "    #\n",
    "        \n",
    "    if(z == 5 or z == 10 or z == 15):\n",
    "        print((z*5),\"% done.\")\n",
    "    if(z == 20):\n",
    "        print(\"Done!\")"
   ]
  },
  {
   "cell_type": "code",
   "execution_count": 73,
   "metadata": {},
   "outputs": [
    {
     "data": {
      "image/png": "[encoded data removed]",
      "text/plain": [
       "<matplotlib.figure.Figure at 0x140ef1d0>"
      ]
     },
     "metadata": {},
     "output_type": "display_data"
    }
   ],
   "source": [
    "#plt.figure(figsize=(10,8))\n",
    "plt.scatter(np.linspace(1,20,num=20),test_results_2, label=\"Leave-one-out\");\n",
    "plt.scatter(np.linspace(1,20,num=20),test_results_3, label=\"Testing with training data\");\n",
    "plt.xticks(np.arange(0, 21, step=1))\n",
    "plt.title(\"Percent of correct predictions with 1-20 nearest neighbors using all data for testing\\n and training, and the leave-one-out method for testing\")\n",
    "plt.grid(True)\n",
    "plt.xlabel(\"Number of nearest neighbors\")\n",
    "plt.ylabel(\"Percent of correct predictions\")\n",
    "plt.legend()\n",
    "plt.show()"
   ]
  },
  {
   "cell_type": "markdown",
   "metadata": {},
   "source": [
    "As expected, the success rate for 1 neares neighbours when using training data as test data is 100%. After that, the success rate drops to ~90% and later follows rougly the same trend as with the leave-one-out method.\n",
    "\n",
    "When testing with the training data, every number of nearest neighbors has the point itself which obviously raises the succes rate a bit. This affects the succes rate less the more nearest neighbours there are, as can be seen from the plot where the testing success starts to overlap with the leave-one-out method for large number of neighbors. Testing with the training data is also harmful if the data is clearly clustered by some category. With tight clusters, the prediction is almost always correct with the same data, and does not represent how the algorithm works with a random test subject from outside the train data."
   ]
  }
 ],
 "metadata": {
  "kernelspec": {
   "display_name": "Python 3",
   "language": "python",
   "name": "python3"
  },
  "language_info": {
   "codemirror_mode": {
    "name": "ipython",
    "version": 3
   },
   "file_extension": ".py",
   "mimetype": "text/x-python",
   "name": "python",
   "nbconvert_exporter": "python",
   "pygments_lexer": "ipython3",
   "version": "3.6.2"
  }
 },
 "nbformat": 4,
 "nbformat_minor": 2
}
